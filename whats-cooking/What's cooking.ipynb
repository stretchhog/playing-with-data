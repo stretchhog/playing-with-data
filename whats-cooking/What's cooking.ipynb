{
 "cells": [
  {
   "cell_type": "markdown",
   "metadata": {},
   "source": [
    "# What's cooking\n",
    "What's cooking is a competition hosted by [Kaggle](https://www.kaggle.com/c/whats-cooking). You are provided a list of recipies which contain ingredients and a cuisine. It is your task to predict the cuisine of a recipe based on those ingredients."
   ]
  },
  {
   "cell_type": "markdown",
   "metadata": {},
   "source": [
    "To get started lets first import all the libraries we need. Why we need those will become apparent when looking at the code.\n",
    "Unzip the `train.json` and `test.json`, you get can them from [here](https://github.com/stretchhog/playing-with-data/blob/master/whats-cooking/whats-cooking.rar) "
   ]
  },
  {
   "cell_type": "code",
   "execution_count": 35,
   "metadata": {
    "collapsed": true
   },
   "outputs": [],
   "source": [
    "%matplotlib inline\n",
    "\n",
    "import json, re, os\n",
    "import numpy as np\n",
    "\n",
    "from pandas import DataFrame, Series\n",
    "\n",
    "from sklearn.preprocessing import LabelEncoder\n",
    "from sklearn.linear_model import LogisticRegression\n",
    "from sklearn import svm, cross_validation\n",
    "from sklearn.cross_validation import ShuffleSplit\n",
    "from sklearn.naive_bayes import BernoulliNB\n",
    "from sklearn.linear_model import LogisticRegression\n",
    "from sklearn.feature_selection import chi2, SelectKBest\n",
    "\n",
    "from nltk.stem import WordNetLemmatizer\n",
    "from nltk import word_tokenize\n",
    "\n",
    "import matplotlib.pyplot as plt\n",
    "import matplotlib\n",
    "matplotlib.style.use('ggplot')\n",
    "\n",
    "workding_dir = '/playing-with-data/whats-cooking'\n",
    "if not os.path.exists(workding_dir):\n",
    "    os.makedirs(workding_dir)\n",
    "os.chdir(workding_dir)"
   ]
  },
  {
   "cell_type": "markdown",
   "metadata": {},
   "source": [
    "# Loading the data\n",
    "We start with loading the data from `train.json` into a `pandas` `dataframe`. While reading the ingredients they are cleaned before being stored in the dataframe.\n",
    "The cleaning consists of removed common words as specified below in `filter_list`, removing any numbers and punctuation, stripping whitespace, converting the ingredients to lowercase and lastly the ingredients are lemmatized using the  `WordNetLemmatizer` from [`nltk`](http://www.ntlk.org)"
   ]
  },
  {
   "cell_type": "code",
   "execution_count": 2,
   "metadata": {
    "collapsed": false
   },
   "outputs": [],
   "source": [
    "filter_list = ['shredded', 'sliced', 'diced', 'chopped', 'seasoned', 'dried', 'fresh', 'cubed', 'peeled']\n",
    "word_pattern = re.compile('|'.join(filter_list))\n",
    "wnl = WordNetLemmatizer()\n",
    "\n",
    "def extract_recipe(json):\n",
    "    return {\n",
    "        'id': get_attribute_from_json('id', json),\n",
    "        'cuisine': get_attribute_from_json('cuisine', json),\n",
    "        'ingredients': ', '.join(clean_ingredient(i) for i in get_attribute_from_json('ingredients', json))\n",
    "    }\n",
    "\n",
    "def get_attribute_from_json(attr, json):\n",
    "    if attr in json:\n",
    "        return json[attr]\n",
    "    return ''\n",
    "\n",
    "def clean_ingredient(i):\n",
    "    retval = word_pattern.sub(\"\", i)\n",
    "    retval = re.sub(\"[^a-zA-Zé ]\", \"\", retval)\n",
    "    retval = retval.rstrip().lstrip().lower()\n",
    "    retval = lemmatize(retval)\n",
    "    return retval\n",
    "\n",
    "def lemmatize(ingredient):\n",
    "    return \" \".join([wnl.lemmatize(t) for t in word_tokenize(ingredient)])"
   ]
  },
  {
   "cell_type": "markdown",
   "metadata": {},
   "source": [
    "After defining the helper function we can read the data into the `dataframe`. This takes a while :)"
   ]
  },
  {
   "cell_type": "code",
   "execution_count": 3,
   "metadata": {
    "collapsed": false
   },
   "outputs": [],
   "source": [
    "filename = 'train.json'\n",
    "df = DataFrame([extract_recipe(recipe) for recipe in json.load(open(filename))])\n",
    "encoder = LabelEncoder()\n",
    "df['cuisine_encoded'] = encoder.fit_transform(df['cuisine'])"
   ]
  },
  {
   "cell_type": "markdown",
   "metadata": {},
   "source": [
    "The data now looks like the table below. Those who are familiar with R's data frames recognize this structure."
   ]
  },
  {
   "cell_type": "code",
   "execution_count": 4,
   "metadata": {
    "collapsed": false,
    "scrolled": true
   },
   "outputs": [
    {
     "data": {
      "text/html": [
       "<div>\n",
       "<table border=\"1\" class=\"dataframe\">\n",
       "  <thead>\n",
       "    <tr style=\"text-align: right;\">\n",
       "      <th></th>\n",
       "      <th>cuisine</th>\n",
       "      <th>id</th>\n",
       "      <th>ingredients</th>\n",
       "      <th>cuisine_encoded</th>\n",
       "    </tr>\n",
       "  </thead>\n",
       "  <tbody>\n",
       "    <tr>\n",
       "      <th>0</th>\n",
       "      <td>greek</td>\n",
       "      <td>10259</td>\n",
       "      <td>romaine lettuce, black olive, grape tomato, ga...</td>\n",
       "      <td>6</td>\n",
       "    </tr>\n",
       "    <tr>\n",
       "      <th>1</th>\n",
       "      <td>southern_us</td>\n",
       "      <td>25693</td>\n",
       "      <td>plain flour, ground pepper, salt, tomato, grou...</td>\n",
       "      <td>16</td>\n",
       "    </tr>\n",
       "    <tr>\n",
       "      <th>2</th>\n",
       "      <td>filipino</td>\n",
       "      <td>20130</td>\n",
       "      <td>egg, pepper, salt, mayonaise, cooking oil, gre...</td>\n",
       "      <td>4</td>\n",
       "    </tr>\n",
       "    <tr>\n",
       "      <th>3</th>\n",
       "      <td>indian</td>\n",
       "      <td>22213</td>\n",
       "      <td>water, vegetable oil, wheat, salt</td>\n",
       "      <td>7</td>\n",
       "    </tr>\n",
       "    <tr>\n",
       "      <th>4</th>\n",
       "      <td>indian</td>\n",
       "      <td>13162</td>\n",
       "      <td>black pepper, shallot, cornflour, cayenne pepp...</td>\n",
       "      <td>7</td>\n",
       "    </tr>\n",
       "    <tr>\n",
       "      <th>5</th>\n",
       "      <td>jamaican</td>\n",
       "      <td>6602</td>\n",
       "      <td>plain flour, sugar, butter, egg, ginger root, ...</td>\n",
       "      <td>10</td>\n",
       "    </tr>\n",
       "  </tbody>\n",
       "</table>\n",
       "</div>"
      ],
      "text/plain": [
       "       cuisine     id                                        ingredients  \\\n",
       "0        greek  10259  romaine lettuce, black olive, grape tomato, ga...   \n",
       "1  southern_us  25693  plain flour, ground pepper, salt, tomato, grou...   \n",
       "2     filipino  20130  egg, pepper, salt, mayonaise, cooking oil, gre...   \n",
       "3       indian  22213                  water, vegetable oil, wheat, salt   \n",
       "4       indian  13162  black pepper, shallot, cornflour, cayenne pepp...   \n",
       "5     jamaican   6602  plain flour, sugar, butter, egg, ginger root, ...   \n",
       "\n",
       "   cuisine_encoded  \n",
       "0                6  \n",
       "1               16  \n",
       "2                4  \n",
       "3                7  \n",
       "4                7  \n",
       "5               10  "
      ]
     },
     "execution_count": 4,
     "metadata": {},
     "output_type": "execute_result"
    }
   ],
   "source": [
    "df.head(6)"
   ]
  },
  {
   "cell_type": "markdown",
   "metadata": {},
   "source": [
    "## Converting to numpy\n",
    "We have decided to create a sparse boolean matrix where each row represents an observation, a recipe, and each column is an ingredient from the entire `train.json`. For the column/ingredient that occurs in the observation/recipe we place a `1` in the matrix."
   ]
  },
  {
   "cell_type": "code",
   "execution_count": 27,
   "metadata": {
    "collapsed": false
   },
   "outputs": [],
   "source": [
    "def construct_data_matrix(n_rows, stacked_ingredients, ingredients):\n",
    "    R = stacked_ingredients.index\n",
    "    C = np.searchsorted(ingredients,stacked_ingredients.values)\n",
    "    x = np.zeros((n_rows, len(ingredients)))    \n",
    "    x[R, C] = 1\n",
    "    return x\n",
    "\n",
    "def stack_ingredients(df):\n",
    "    return df.ingredients.str.split(', ').apply(lambda x: Series(x)).stack().reset_index(level=1, drop=True)\n",
    "\n",
    "def get_unique_sorted_ingredients(stacked_ingredients):\n",
    "    return sorted(stacked_ingredients.unique())"
   ]
  },
  {
   "cell_type": "code",
   "execution_count": 28,
   "metadata": {
    "collapsed": false
   },
   "outputs": [],
   "source": [
    "stacked_ingredients = stack_ingredients(df)\n",
    "unique_sorted_ingredients = get_unique_sorted_ingredients(stacked_ingredients)\n",
    "x = construct_data_matrix(len(df), stacked_ingredients, unique_sorted_ingredients)\n",
    "y = df.cuisine_encoded.values"
   ]
  },
  {
   "cell_type": "markdown",
   "metadata": {},
   "source": [
    "The matrix `x` and the vector `y` look like this:"
   ]
  },
  {
   "cell_type": "code",
   "execution_count": 29,
   "metadata": {
    "collapsed": false
   },
   "outputs": [
    {
     "data": {
      "text/plain": [
       "array([[ 0.,  0.,  0., ...,  0.,  0.,  0.],\n",
       "       [ 0.,  0.,  0., ...,  0.,  0.,  0.],\n",
       "       [ 0.,  0.,  0., ...,  0.,  0.,  0.],\n",
       "       ..., \n",
       "       [ 0.,  0.,  0., ...,  0.,  0.,  0.],\n",
       "       [ 0.,  0.,  0., ...,  0.,  0.,  0.],\n",
       "       [ 0.,  0.,  0., ...,  0.,  0.,  0.]])"
      ]
     },
     "execution_count": 29,
     "metadata": {},
     "output_type": "execute_result"
    }
   ],
   "source": [
    "x"
   ]
  },
  {
   "cell_type": "code",
   "execution_count": 30,
   "metadata": {
    "collapsed": false
   },
   "outputs": [
    {
     "data": {
      "text/plain": [
       "array([ 6, 16,  4, ...,  8,  3, 13], dtype=int32)"
      ]
     },
     "execution_count": 30,
     "metadata": {},
     "output_type": "execute_result"
    }
   ],
   "source": [
    "y"
   ]
  },
  {
   "cell_type": "markdown",
   "metadata": {},
   "source": [
    "# Benchmarking models\n",
    "Now we are finally ready to benchmark some machine learning models to see which one performs well. We'll define a function that takes the `x` and `y` as we defined them and in addition to that a list that contains the number of features we want to give to the [feature selector](https://en.wikipedia.org/wiki/Feature_selection) and a list of models we want to give to the [cross validation](https://en.wikipedia.org/wiki/Cross-validation_(statistics)) function.\n",
    "\n",
    "In addition to benchmarking, the function also returns the best model based on the accuracy metric."
   ]
  },
  {
   "cell_type": "code",
   "execution_count": null,
   "metadata": {
    "collapsed": true
   },
   "outputs": [],
   "source": [
    "def benchmark_models(x_train, y, **kwargs):\n",
    "    results = []\n",
    "    n_samples = x_train.shape[0]\n",
    "    for nr in kwargs['nr_of_features']:\n",
    "        x_train_new = feature_selection(x_train, y, nr)\n",
    "        for model in kwargs['models']:\n",
    "            scores = cross_validation.cross_val_score(model, x_train_new, y,\n",
    "                                                      cv=ShuffleSplit(n_samples, n_iter=10, test_size=0.1))\n",
    "            results.append((model, nr, scores.mean(), scores.std() * 2))\n",
    "\n",
    "    print_results(results)\n",
    "    return get_best(results)\n",
    "\n",
    "\n",
    "def print_results(results):\n",
    "    for res in results:\n",
    "        print(\"\\tModel: %s | Features: %s | Accuracy: %0.5f (+/- %0.3f)\" % (\n",
    "                res[0].__class__.__name__, res[1], res[2], res[3]))\n",
    "\n",
    "\n",
    "def get_best(results):\n",
    "    return sorted(results, key=lambda r: r[2], reverse=True)[0]\n",
    "\n",
    "\n",
    "def feature_selection(x, y, nr_features):\n",
    "    selector = SelectKBest(chi2, k=nr_features).fit(x, y)\n",
    "    x_new = selector.transform(x)\n",
    "    return x_new"
   ]
  },
  {
   "cell_type": "code",
   "execution_count": null,
   "metadata": {
    "collapsed": false
   },
   "outputs": [],
   "source": [
    "# best = benchmark_models(x, y, \n",
    "#                         nr_of_features=[100, 200, 500, 1000, 1500, 2000, 2500], \n",
    "#                         models=[svm.LinearSVC(), BernoulliNB(), LogisticRegression()])"
   ]
  },
  {
   "cell_type": "markdown",
   "metadata": {},
   "source": [
    "# Playing with data\n",
    "## Plots"
   ]
  },
  {
   "cell_type": "markdown",
   "metadata": {},
   "source": [
    "The distribution between cuisines"
   ]
  },
  {
   "cell_type": "code",
   "execution_count": 34,
   "metadata": {
    "collapsed": false
   },
   "outputs": [
    {
     "data": {
      "text/plain": [
       "<matplotlib.axes._subplots.AxesSubplot at 0x31a9918128>"
      ]
     },
     "execution_count": 34,
     "metadata": {},
     "output_type": "execute_result"
    },
    {
     "data": {
      "image/png": "[encoded data removed]",
      "text/plain": [
       "<matplotlib.figure.Figure at 0x31a9a91438>"
      ]
     },
     "metadata": {},
     "output_type": "display_data"
    }
   ],
   "source": [
    "df.cuisine.value_counts().plot(kind='bar', alpha=0.5)"
   ]
  },
  {
   "cell_type": "markdown",
   "metadata": {},
   "source": [
    "The 20 most common ingredients"
   ]
  },
  {
   "cell_type": "code",
   "execution_count": 32,
   "metadata": {
    "collapsed": false
   },
   "outputs": [
    {
     "data": {
      "text/plain": [
       "<matplotlib.axes._subplots.AxesSubplot at 0x31b4b09a20>"
      ]
     },
     "execution_count": 32,
     "metadata": {},
     "output_type": "execute_result"
    },
    {
     "data": {
      "image/png": "[encoded data removed]",
      "text/plain": [
       "<matplotlib.figure.Figure at 0x31b4a4f048>"
      ]
     },
     "metadata": {},
     "output_type": "display_data"
    }
   ],
   "source": [
    "stacked_ingredients.value_counts()[0:20].plot(kind='bar', alpha=0.5)"
   ]
  },
  {
   "cell_type": "code",
   "execution_count": null,
   "metadata": {
    "collapsed": true
   },
   "outputs": [],
   "source": []
  }
 ],
 "metadata": {
  "kernelspec": {
   "display_name": "Python 3",
   "language": "python",
   "name": "python3"
  },
  "language_info": {
   "codemirror_mode": {
    "name": "ipython",
    "version": 3
   },
   "file_extension": ".py",
   "mimetype": "text/x-python",
   "name": "python",
   "nbconvert_exporter": "python",
   "pygments_lexer": "ipython3",
   "version": "3.5.0"
  }
 },
 "nbformat": 4,
 "nbformat_minor": 0
}
